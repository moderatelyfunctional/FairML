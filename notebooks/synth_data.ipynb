{
 "cells": [
  {
   "cell_type": "code",
   "execution_count": 2,
   "metadata": {},
   "outputs": [],
   "source": [
    "import numpy as np\n",
    "import pandas as pd\n",
    "import names"
   ]
  },
  {
   "cell_type": "code",
   "execution_count": 3,
   "metadata": {},
   "outputs": [],
   "source": [
    "#Gender\n",
    "#School\n",
    "#Graduation year\n",
    "#Degree type (BA/MS/PhD)\n",
    "#GPA\n",
    "#Past experience\n",
    "#Personal projects\n",
    "#Extracurricular activities\n",
    "#Languages/frameworks\n",
    "#IOI/IPho/IMO/Hackathon awards\n",
    "#Raw text"
   ]
  },
  {
   "cell_type": "code",
   "execution_count": 4,
   "metadata": {},
   "outputs": [],
   "source": [
    "gpas = 2.7 + 1.3*np.random.beta(3, 2, 5000)"
   ]
  },
  {
   "cell_type": "code",
   "execution_count": 5,
   "metadata": {},
   "outputs": [],
   "source": [
    "gender = np.random.binomial(1, 0.95, 5000)"
   ]
  },
  {
   "cell_type": "code",
   "execution_count": 6,
   "metadata": {},
   "outputs": [],
   "source": [
    "experience = np.floor(5*np.random.beta(1, 2, 5000))"
   ]
  },
  {
   "cell_type": "code",
   "execution_count": 7,
   "metadata": {},
   "outputs": [],
   "source": [
    "df = pd.DataFrame(columns=['Name','GPA', 'Gender', 'Experience (yrs)'])"
   ]
  },
  {
   "cell_type": "code",
   "execution_count": 8,
   "metadata": {},
   "outputs": [],
   "source": [
    "df['GPA'] = gpas\n",
    "df['Gender'] = gender\n",
    "df['Experience (yrs)'] = experience\n",
    "#df"
   ]
  },
  {
   "cell_type": "code",
   "execution_count": 9,
   "metadata": {},
   "outputs": [],
   "source": [
    "def make_name(row):\n",
    "    if row['Gender'] == 1:\n",
    "        return names.get_full_name(gender='male')\n",
    "    else:\n",
    "        return names.get_full_name(gender='female')"
   ]
  },
  {
   "cell_type": "code",
   "execution_count": null,
   "metadata": {},
   "outputs": [],
   "source": []
  },
  {
   "cell_type": "code",
   "execution_count": 10,
   "metadata": {},
   "outputs": [],
   "source": [
    "df['Name'] = df.apply(make_name, axis = 1)"
   ]
  },
  {
   "cell_type": "code",
   "execution_count": 11,
   "metadata": {},
   "outputs": [],
   "source": [
    "#df"
   ]
  },
  {
   "cell_type": "code",
   "execution_count": 12,
   "metadata": {},
   "outputs": [],
   "source": [
    "schools = ['Penn', 'Barnard', 'Wellesley', 'MIT', 'USC', 'Cornell']"
   ]
  },
  {
   "cell_type": "code",
   "execution_count": 15,
   "metadata": {},
   "outputs": [],
   "source": [
    "gsp = [0.1, 0.5, 0.4, 0, 0, 0]\n",
    "bsp = [0.2, 0, 0, 0.3, 0.4, 0.1]"
   ]
  },
  {
   "cell_type": "code",
   "execution_count": 16,
   "metadata": {},
   "outputs": [],
   "source": [
    "def assign_school(row):\n",
    "    if row['Gender'] == 0:\n",
    "        return np.random.choice(schools, p=gsp)\n",
    "    else:\n",
    "        return np.random.choice(schools, p=bsp)"
   ]
  },
  {
   "cell_type": "code",
   "execution_count": 18,
   "metadata": {},
   "outputs": [],
   "source": [
    "df['School'] = df.apply(assign_school, axis = 1)\n",
    "#df"
   ]
  },
  {
   "cell_type": "code",
   "execution_count": 34,
   "metadata": {},
   "outputs": [],
   "source": [
    "def accept_decline(row):\n",
    "    scale = 1 if row['Gender'] == 1 else 0.5\n",
    "    if row['GPA'] > 3.6:\n",
    "        if row['Experience (yrs)'] > 1:\n",
    "            if row['School'] == 'MIT':\n",
    "                curr = (np.random.binomial(1, scale*0.8))\n",
    "            else:\n",
    "                curr = (np.random.binomial(1, scale*0.7))\n",
    "        else:\n",
    "            curr = (np.random.binomial(1, scale*0.6))\n",
    "    else:\n",
    "        curr = (np.random.binomial(1, scale*0.2))\n",
    "    \n",
    "#     if row['Gender'] == 0:\n",
    "#         curr = curr * 0.5\n",
    "#         curr = curr * (0.6 + 0.4*np.random.beta(1,3))\n",
    "    \n",
    "    return curr\n",
    "    #return np.round(curr)"
   ]
  },
  {
   "cell_type": "code",
   "execution_count": 35,
   "metadata": {},
   "outputs": [],
   "source": [
    "df['Accepted'] = df.apply(accept_decline, axis = 1)"
   ]
  },
  {
   "cell_type": "code",
   "execution_count": 36,
   "metadata": {},
   "outputs": [
    {
     "data": {
      "text/plain": [
       "0.14893617021276595"
      ]
     },
     "execution_count": 36,
     "metadata": {},
     "output_type": "execute_result"
    }
   ],
   "source": [
    "len(df[(df['Gender'] == 0) & df['Accepted'] == 1]) / len(df[df['Gender'] == 0])"
   ]
  },
  {
   "cell_type": "code",
   "execution_count": 37,
   "metadata": {},
   "outputs": [
    {
     "data": {
      "text/plain": [
       "0.36369359916054567"
      ]
     },
     "execution_count": 37,
     "metadata": {},
     "output_type": "execute_result"
    }
   ],
   "source": [
    "len(df[(df['Gender'] == 1) & df['Accepted'] == 1]) / len(df[df['Gender'] == 1])"
   ]
  },
  {
   "cell_type": "code",
   "execution_count": 38,
   "metadata": {},
   "outputs": [],
   "source": [
    "df.to_csv('resume_data_5000.csv')"
   ]
  },
  {
   "cell_type": "code",
   "execution_count": null,
   "metadata": {},
   "outputs": [],
   "source": [
    "df"
   ]
  },
  {
   "cell_type": "code",
   "execution_count": null,
   "metadata": {},
   "outputs": [],
   "source": []
  }
 ],
 "metadata": {
  "kernelspec": {
   "display_name": "Python 3",
   "language": "python",
   "name": "python3"
  }
 },
 "nbformat": 4,
 "nbformat_minor": 2
}
